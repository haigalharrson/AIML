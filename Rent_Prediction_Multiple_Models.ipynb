{
  "nbformat": 4,
  "nbformat_minor": 0,
  "metadata": {
    "kernelspec": {
      "display_name": "Python 3",
      "language": "python",
      "name": "python3"
    },
    "language_info": {
      "codemirror_mode": {
        "name": "ipython",
        "version": 3
      },
      "file_extension": ".py",
      "mimetype": "text/x-python",
      "name": "python",
      "nbconvert_exporter": "python",
      "pygments_lexer": "ipython3",
      "version": "3.8.5"
    },
    "colab": {
      "name": "99acres_regression_analysis.ipynb",
      "provenance": []
    }
  },
  "cells": [
    {
      "cell_type": "markdown",
      "metadata": {
        "id": "V08bceUG_Uu2"
      },
      "source": [
        "# House rent Prediction using Regression Algorithms"
      ]
    },
    {
      "cell_type": "markdown",
      "metadata": {
        "id": "kRRzTizH_Uu6"
      },
      "source": [
        "## Importing the pandas library and 99 acres data set"
      ]
    },
    {
      "cell_type": "code",
      "metadata": {
        "scrolled": false,
        "colab": {
          "base_uri": "https://localhost:8080/"
        },
        "id": "9ATQrCZ3_Uu7",
        "outputId": "52adc74b-953d-407d-b131-9646be000763"
      },
      "source": [
        "import pandas as pd\n",
        "from google.colab import drive\n",
        "drive.mount('/content/drive', force_remount=True)\n",
        "real_estate_data = pd.read_csv(\"/content/drive/My Drive/My data files/data_set_99acres.csv\", header=0)\n",
        "real_estate_data.drop('Unnamed: 0', axis='columns', inplace=True)\n",
        "real_estate_data.head(5)\n",
        "real_estate_data.shape"
      ],
      "execution_count": null,
      "outputs": [
        {
          "output_type": "stream",
          "text": [
            "Mounted at /content/drive\n"
          ],
          "name": "stdout"
        },
        {
          "output_type": "execute_result",
          "data": {
            "text/plain": [
              "(8058, 3)"
            ]
          },
          "metadata": {
            "tags": []
          },
          "execution_count": 23
        }
      ]
    },
    {
      "cell_type": "markdown",
      "metadata": {
        "id": "_CcAM_XK_Uu8"
      },
      "source": [
        "## Converting the price column to numerical data"
      ]
    },
    {
      "cell_type": "code",
      "metadata": {
        "colab": {
          "base_uri": "https://localhost:8080/",
          "height": 203
        },
        "id": "m17J4tQA_Uu9",
        "outputId": "8a5dd872-7502-4543-c6d1-d89eff8a0bed"
      },
      "source": [
        "price_num = []\n",
        "for price in range(real_estate_data['Price'].count()):\n",
        "#     print(price)\n",
        "    try:\n",
        "        price_num.append(int(real_estate_data['Price'][price]))\n",
        "    except:\n",
        "        price_num.append(None)\n",
        "        \n",
        "# print(type(price_num[0]))\n",
        "real_estate_data[\"Price\"] = price_num\n",
        "real_estate_data.head(5)"
      ],
      "execution_count": null,
      "outputs": [
        {
          "output_type": "execute_result",
          "data": {
            "text/html": [
              "<div>\n",
              "<style scoped>\n",
              "    .dataframe tbody tr th:only-of-type {\n",
              "        vertical-align: middle;\n",
              "    }\n",
              "\n",
              "    .dataframe tbody tr th {\n",
              "        vertical-align: top;\n",
              "    }\n",
              "\n",
              "    .dataframe thead th {\n",
              "        text-align: right;\n",
              "    }\n",
              "</style>\n",
              "<table border=\"1\" class=\"dataframe\">\n",
              "  <thead>\n",
              "    <tr style=\"text-align: right;\">\n",
              "      <th></th>\n",
              "      <th>Description</th>\n",
              "      <th>Price</th>\n",
              "      <th>Sq_feet</th>\n",
              "    </tr>\n",
              "  </thead>\n",
              "  <tbody>\n",
              "    <tr>\n",
              "      <th>0</th>\n",
              "      <td>2 BHK Residential Apartment for rent in Gowlid...</td>\n",
              "      <td>18000.0</td>\n",
              "      <td>1400</td>\n",
              "    </tr>\n",
              "    <tr>\n",
              "      <th>1</th>\n",
              "      <td>3 BHK Residential Apartment for rent in Gachib...</td>\n",
              "      <td>45000.0</td>\n",
              "      <td>1834</td>\n",
              "    </tr>\n",
              "    <tr>\n",
              "      <th>2</th>\n",
              "      <td>1 BHK Residential Apartment for rent in Domalguda</td>\n",
              "      <td>8000.0</td>\n",
              "      <td>330</td>\n",
              "    </tr>\n",
              "    <tr>\n",
              "      <th>3</th>\n",
              "      <td>1 BHK Residential Apartment for rent in Hitex,...</td>\n",
              "      <td>8000.0</td>\n",
              "      <td>510</td>\n",
              "    </tr>\n",
              "    <tr>\n",
              "      <th>4</th>\n",
              "      <td>3 BHK Residential Apartment for rent in Whitef...</td>\n",
              "      <td>50000.0</td>\n",
              "      <td>1850</td>\n",
              "    </tr>\n",
              "  </tbody>\n",
              "</table>\n",
              "</div>"
            ],
            "text/plain": [
              "                                         Description    Price  Sq_feet\n",
              "0  2 BHK Residential Apartment for rent in Gowlid...  18000.0     1400\n",
              "1  3 BHK Residential Apartment for rent in Gachib...  45000.0     1834\n",
              "2  1 BHK Residential Apartment for rent in Domalguda   8000.0      330\n",
              "3  1 BHK Residential Apartment for rent in Hitex,...   8000.0      510\n",
              "4  3 BHK Residential Apartment for rent in Whitef...  50000.0     1850"
            ]
          },
          "metadata": {
            "tags": []
          },
          "execution_count": 24
        }
      ]
    },
    {
      "cell_type": "markdown",
      "metadata": {
        "id": "bLxdZwyW_Uu9"
      },
      "source": [
        "## Checking the numerical columns present in the data set"
      ]
    },
    {
      "cell_type": "code",
      "metadata": {
        "colab": {
          "base_uri": "https://localhost:8080/"
        },
        "id": "rvIU0ZqR_Uu9",
        "outputId": "7bf3c10d-6229-41d7-b028-562befb8b125"
      },
      "source": [
        "real_estate_data.dtypes[real_estate_data.dtypes!='object']"
      ],
      "execution_count": null,
      "outputs": [
        {
          "output_type": "execute_result",
          "data": {
            "text/plain": [
              "Price      float64\n",
              "Sq_feet      int64\n",
              "dtype: object"
            ]
          },
          "metadata": {
            "tags": []
          },
          "execution_count": 25
        }
      ]
    },
    {
      "cell_type": "markdown",
      "metadata": {
        "id": "Ywgl94Wq_Uu-"
      },
      "source": [
        "## Plotting the Numerical Datas"
      ]
    },
    {
      "cell_type": "code",
      "metadata": {
        "scrolled": true,
        "colab": {
          "base_uri": "https://localhost:8080/",
          "height": 1000
        },
        "id": "QIIKLb1V_Uu-",
        "outputId": "513d6720-9c80-4b29-e884-e59bb18f6bd0"
      },
      "source": [
        "real_estate_data.hist(figsize=(20,20), xrot=-45)"
      ],
      "execution_count": null,
      "outputs": [
        {
          "output_type": "execute_result",
          "data": {
            "text/plain": [
              "array([[<matplotlib.axes._subplots.AxesSubplot object at 0x7f7fe8de98d0>,\n",
              "        <matplotlib.axes._subplots.AxesSubplot object at 0x7f7fce27a210>]],\n",
              "      dtype=object)"
            ]
          },
          "metadata": {
            "tags": []
          },
          "execution_count": 26
        },
        {
          "output_type": "display_data",
          "data": {
            "image/png": "[encoded data removed]",
            "text/plain": [
              "<Figure size 1440x1440 with 2 Axes>"
            ]
          },
          "metadata": {
            "tags": [],
            "needs_background": "light"
          }
        }
      ]
    },
    {
      "cell_type": "markdown",
      "metadata": {
        "id": "krwn2nLp_Uu_"
      },
      "source": [
        "## Checking the null values in the data"
      ]
    },
    {
      "cell_type": "code",
      "metadata": {
        "scrolled": true,
        "colab": {
          "base_uri": "https://localhost:8080/"
        },
        "id": "w0aFuM7I_Uu_",
        "outputId": "214df19f-27d4-445e-9d06-a6cea9adae94"
      },
      "source": [
        "real_estate_data.isnull().sum()"
      ],
      "execution_count": null,
      "outputs": [
        {
          "output_type": "execute_result",
          "data": {
            "text/plain": [
              "Description      0\n",
              "Price          165\n",
              "Sq_feet          0\n",
              "dtype: int64"
            ]
          },
          "metadata": {
            "tags": []
          },
          "execution_count": 27
        }
      ]
    },
    {
      "cell_type": "markdown",
      "metadata": {
        "id": "46-Rh8Xn_UvA"
      },
      "source": [
        "## Dropping the null values from the price column"
      ]
    },
    {
      "cell_type": "code",
      "metadata": {
        "colab": {
          "base_uri": "https://localhost:8080/"
        },
        "id": "tv02qjfm_UvA",
        "outputId": "3c76eaee-5440-48e2-de63-6aa7ec219234"
      },
      "source": [
        "real_estate_data.dropna(subset=[\"Price\"], inplace=True)\n",
        "real_estate_data.shape"
      ],
      "execution_count": null,
      "outputs": [
        {
          "output_type": "execute_result",
          "data": {
            "text/plain": [
              "(7893, 3)"
            ]
          },
          "metadata": {
            "tags": []
          },
          "execution_count": 28
        }
      ]
    },
    {
      "cell_type": "markdown",
      "metadata": {
        "id": "0y3xFqlw_UvA"
      },
      "source": [
        "## Extracting the number of bedrooms the house/appartment have from description and creating a new column with int data type"
      ]
    },
    {
      "cell_type": "code",
      "metadata": {
        "colab": {
          "base_uri": "https://localhost:8080/",
          "height": 203
        },
        "id": "-08kSr7n_UvB",
        "outputId": "8e10392a-a1e5-404a-c0b9-f38cde4650e9"
      },
      "source": [
        "values = []\n",
        "for i in range(real_estate_data['Description'].count()):\n",
        "    try:\n",
        "        values.append(int(int(real_estate_data['Description'][i][0])))\n",
        "    except:\n",
        "        values.append(None)\n",
        "        \n",
        "# print(type(values[0]))\n",
        "real_estate_data[\"No_of_beds\"] = values\n",
        "real_estate_data.head(5)"
      ],
      "execution_count": null,
      "outputs": [
        {
          "output_type": "execute_result",
          "data": {
            "text/html": [
              "<div>\n",
              "<style scoped>\n",
              "    .dataframe tbody tr th:only-of-type {\n",
              "        vertical-align: middle;\n",
              "    }\n",
              "\n",
              "    .dataframe tbody tr th {\n",
              "        vertical-align: top;\n",
              "    }\n",
              "\n",
              "    .dataframe thead th {\n",
              "        text-align: right;\n",
              "    }\n",
              "</style>\n",
              "<table border=\"1\" class=\"dataframe\">\n",
              "  <thead>\n",
              "    <tr style=\"text-align: right;\">\n",
              "      <th></th>\n",
              "      <th>Description</th>\n",
              "      <th>Price</th>\n",
              "      <th>Sq_feet</th>\n",
              "      <th>No_of_beds</th>\n",
              "    </tr>\n",
              "  </thead>\n",
              "  <tbody>\n",
              "    <tr>\n",
              "      <th>0</th>\n",
              "      <td>2 BHK Residential Apartment for rent in Gowlid...</td>\n",
              "      <td>18000.0</td>\n",
              "      <td>1400</td>\n",
              "      <td>2.0</td>\n",
              "    </tr>\n",
              "    <tr>\n",
              "      <th>1</th>\n",
              "      <td>3 BHK Residential Apartment for rent in Gachib...</td>\n",
              "      <td>45000.0</td>\n",
              "      <td>1834</td>\n",
              "      <td>3.0</td>\n",
              "    </tr>\n",
              "    <tr>\n",
              "      <th>2</th>\n",
              "      <td>1 BHK Residential Apartment for rent in Domalguda</td>\n",
              "      <td>8000.0</td>\n",
              "      <td>330</td>\n",
              "      <td>1.0</td>\n",
              "    </tr>\n",
              "    <tr>\n",
              "      <th>3</th>\n",
              "      <td>1 BHK Residential Apartment for rent in Hitex,...</td>\n",
              "      <td>8000.0</td>\n",
              "      <td>510</td>\n",
              "      <td>1.0</td>\n",
              "    </tr>\n",
              "    <tr>\n",
              "      <th>4</th>\n",
              "      <td>3 BHK Residential Apartment for rent in Whitef...</td>\n",
              "      <td>50000.0</td>\n",
              "      <td>1850</td>\n",
              "      <td>3.0</td>\n",
              "    </tr>\n",
              "  </tbody>\n",
              "</table>\n",
              "</div>"
            ],
            "text/plain": [
              "                                         Description  ...  No_of_beds\n",
              "0  2 BHK Residential Apartment for rent in Gowlid...  ...         2.0\n",
              "1  3 BHK Residential Apartment for rent in Gachib...  ...         3.0\n",
              "2  1 BHK Residential Apartment for rent in Domalguda  ...         1.0\n",
              "3  1 BHK Residential Apartment for rent in Hitex,...  ...         1.0\n",
              "4  3 BHK Residential Apartment for rent in Whitef...  ...         3.0\n",
              "\n",
              "[5 rows x 4 columns]"
            ]
          },
          "metadata": {
            "tags": []
          },
          "execution_count": 29
        }
      ]
    },
    {
      "cell_type": "markdown",
      "metadata": {
        "id": "kmLM318B_UvB"
      },
      "source": [
        "## Again checking for null values"
      ]
    },
    {
      "cell_type": "code",
      "metadata": {
        "colab": {
          "base_uri": "https://localhost:8080/"
        },
        "id": "vRToQ6B4_UvB",
        "outputId": "4efa4d19-75dc-4f3b-a441-b42b8f5ae0b7"
      },
      "source": [
        "real_estate_data.isnull().sum()"
      ],
      "execution_count": null,
      "outputs": [
        {
          "output_type": "execute_result",
          "data": {
            "text/plain": [
              "Description      0\n",
              "Price            0\n",
              "Sq_feet          0\n",
              "No_of_beds     240\n",
              "dtype: int64"
            ]
          },
          "metadata": {
            "tags": []
          },
          "execution_count": 30
        }
      ]
    },
    {
      "cell_type": "markdown",
      "metadata": {
        "id": "eHY2PVfS_UvC"
      },
      "source": [
        "## Removing the null values present in the flat type column"
      ]
    },
    {
      "cell_type": "code",
      "metadata": {
        "id": "tGUACHZU_UvC"
      },
      "source": [
        "real_estate_data.dropna(subset=[\"No_of_beds\"], inplace=True)"
      ],
      "execution_count": null,
      "outputs": []
    },
    {
      "cell_type": "markdown",
      "metadata": {
        "id": "fgB7TaPD_UvC"
      },
      "source": [
        "## After the preprocessing of data checking for numerical columns in data set for training"
      ]
    },
    {
      "cell_type": "code",
      "metadata": {
        "scrolled": true,
        "colab": {
          "base_uri": "https://localhost:8080/"
        },
        "id": "JZBrXW1b_UvC",
        "outputId": "983b16f9-4009-4f2b-a35b-397d87c9b48e"
      },
      "source": [
        "real_estate_data.dtypes[real_estate_data.dtypes!='object']"
      ],
      "execution_count": null,
      "outputs": [
        {
          "output_type": "execute_result",
          "data": {
            "text/plain": [
              "Price         float64\n",
              "Sq_feet         int64\n",
              "No_of_beds    float64\n",
              "dtype: object"
            ]
          },
          "metadata": {
            "tags": []
          },
          "execution_count": 32
        }
      ]
    },
    {
      "cell_type": "markdown",
      "metadata": {
        "id": "rAMnabB0_UvC"
      },
      "source": [
        "## Making sure we don't have anymore null values."
      ]
    },
    {
      "cell_type": "code",
      "metadata": {
        "colab": {
          "base_uri": "https://localhost:8080/"
        },
        "id": "hzwYYTtS_UvD",
        "outputId": "659b2092-7dee-497a-fd24-7dcd353e75a4"
      },
      "source": [
        "real_estate_data.isnull().sum()\n",
        "print(real_estate_data['Sq_feet'].value_counts())\n",
        "# real_estate_data = real_estate_data.drop(real_estate_data[real_estate_data['Sq_feet'] < 10].index, inplace = True)"
      ],
      "execution_count": null,
      "outputs": [
        {
          "output_type": "stream",
          "text": [
            "1000    403\n",
            "1200    382\n",
            "1100    321\n",
            "900     241\n",
            "1800    215\n",
            "       ... \n",
            "2363      1\n",
            "2335      1\n",
            "278       1\n",
            "266       1\n",
            "8200      1\n",
            "Name: Sq_feet, Length: 923, dtype: int64\n"
          ],
          "name": "stdout"
        }
      ]
    },
    {
      "cell_type": "code",
      "metadata": {
        "colab": {
          "base_uri": "https://localhost:8080/"
        },
        "id": "sOOBpzKF_UvD",
        "outputId": "141ff640-331c-4cf3-f0f8-c087bd5df374"
      },
      "source": [
        "print(real_estate_data['Sq_feet'].value_counts())"
      ],
      "execution_count": null,
      "outputs": [
        {
          "output_type": "stream",
          "text": [
            "1000    403\n",
            "1200    382\n",
            "1100    321\n",
            "900     241\n",
            "1800    215\n",
            "       ... \n",
            "2363      1\n",
            "2335      1\n",
            "278       1\n",
            "266       1\n",
            "8200      1\n",
            "Name: Sq_feet, Length: 923, dtype: int64\n"
          ],
          "name": "stdout"
        }
      ]
    },
    {
      "cell_type": "markdown",
      "metadata": {
        "id": "uPmQFa1B_UvD"
      },
      "source": [
        "## Creating X, y features and target variables from our data set for training model"
      ]
    },
    {
      "cell_type": "code",
      "metadata": {
        "colab": {
          "base_uri": "https://localhost:8080/"
        },
        "id": "YmqefF6R_UvD",
        "outputId": "285d0ab1-483f-490c-c153-53572f0ef915"
      },
      "source": [
        "# Data Allocation to x, y\n",
        "import numpy as np\n",
        "\n",
        "X = real_estate_data.iloc[:, 2:].values\n",
        "y = real_estate_data.iloc[:, 1].values\n",
        "# type(X)\n",
        "# X = X.reshape(-1,1)\n",
        "# type(X)\n",
        "# X.reshape(-1,1)\n",
        "X.shape"
      ],
      "execution_count": null,
      "outputs": [
        {
          "output_type": "execute_result",
          "data": {
            "text/plain": [
              "(7653, 2)"
            ]
          },
          "metadata": {
            "tags": []
          },
          "execution_count": 35
        }
      ]
    },
    {
      "cell_type": "markdown",
      "metadata": {
        "id": "RBloDVjd_UvE"
      },
      "source": [
        "## Splitting the data to train test"
      ]
    },
    {
      "cell_type": "code",
      "metadata": {
        "id": "i-YyU57r_UvE"
      },
      "source": [
        "# Train test split\n",
        "\n",
        "from sklearn.model_selection import train_test_split\n",
        "X_train, X_test, y_train, y_test = train_test_split(X, y, test_size = 0.2, random_state=0)"
      ],
      "execution_count": null,
      "outputs": []
    },
    {
      "cell_type": "markdown",
      "metadata": {
        "id": "IsfTKapZ_UvE"
      },
      "source": [
        "## Importing necessary modules to build our model"
      ]
    },
    {
      "cell_type": "code",
      "metadata": {
        "id": "l9RfXpbH_UvE"
      },
      "source": [
        "from sklearn import svm\n",
        "import matplotlib.pyplot as plt\n",
        "from sklearn.neighbors import KNeighborsRegressor\n",
        "from sklearn.linear_model import LinearRegression, LogisticRegression\n",
        "from sklearn.svm import SVR\n",
        "from sklearn.metrics import r2_score\n",
        "# from sklearn.cross_validation import train_test_split\n",
        "from sklearn.ensemble import RandomForestRegressor\n",
        "import numpy as np"
      ],
      "execution_count": null,
      "outputs": []
    },
    {
      "cell_type": "markdown",
      "metadata": {
        "id": "UfQ2e1Zo_UvE"
      },
      "source": [
        "## Linear Regressor"
      ]
    },
    {
      "cell_type": "code",
      "metadata": {
        "colab": {
          "base_uri": "https://localhost:8080/"
        },
        "id": "lousP5Rc_UvE",
        "outputId": "ef9db3b0-2241-40c1-bf6b-23a70a30df6d"
      },
      "source": [
        "# Linear Reggressor\n",
        "print(X_train[0])\n",
        "regressor = LinearRegression()\n",
        "regressor.fit(X_train, y_train)\n"
      ],
      "execution_count": null,
      "outputs": [
        {
          "output_type": "stream",
          "text": [
            "[1100.    3.]\n"
          ],
          "name": "stdout"
        },
        {
          "output_type": "execute_result",
          "data": {
            "text/plain": [
              "LinearRegression(copy_X=True, fit_intercept=True, n_jobs=None, normalize=False)"
            ]
          },
          "metadata": {
            "tags": []
          },
          "execution_count": 38
        }
      ]
    },
    {
      "cell_type": "code",
      "metadata": {
        "colab": {
          "base_uri": "https://localhost:8080/",
          "height": 282
        },
        "id": "iCNLF7xC_UvF",
        "outputId": "d8ce85f9-8fba-49f5-c4de-841b03413479"
      },
      "source": [
        "y_pred = regressor.predict(X_test)\n",
        "y_pred\n",
        "plt.scatter(y_test, y_pred)"
      ],
      "execution_count": null,
      "outputs": [
        {
          "output_type": "execute_result",
          "data": {
            "text/plain": [
              "<matplotlib.collections.PathCollection at 0x7f7fce11d110>"
            ]
          },
          "metadata": {
            "tags": []
          },
          "execution_count": 39
        },
        {
          "output_type": "display_data",
          "data": {
            "image/png": "[encoded data removed]",
            "text/plain": [
              "<Figure size 432x288 with 1 Axes>"
            ]
          },
          "metadata": {
            "tags": [],
            "needs_background": "light"
          }
        }
      ]
    },
    {
      "cell_type": "code",
      "metadata": {
        "colab": {
          "base_uri": "https://localhost:8080/"
        },
        "id": "AA5bwLfR_UvF",
        "outputId": "de769d5e-f885-40ca-ba6f-8672f8e4c991"
      },
      "source": [
        "regressor.predict([[650, 2]])"
      ],
      "execution_count": null,
      "outputs": [
        {
          "output_type": "execute_result",
          "data": {
            "text/plain": [
              "array([18803.71723389])"
            ]
          },
          "metadata": {
            "tags": []
          },
          "execution_count": 40
        }
      ]
    },
    {
      "cell_type": "code",
      "metadata": {
        "scrolled": true,
        "colab": {
          "base_uri": "https://localhost:8080/"
        },
        "id": "dA5WBB4Y_UvF",
        "outputId": "d6689f3d-0e18-46da-e9df-eb646b2692cf"
      },
      "source": [
        "print(regressor.coef_)\n",
        "print(regressor.intercept_)"
      ],
      "execution_count": null,
      "outputs": [
        {
          "output_type": "stream",
          "text": [
            "[7.28887217e-01 1.79486150e+03]\n",
            "14740.217542005432\n"
          ],
          "name": "stdout"
        }
      ]
    },
    {
      "cell_type": "markdown",
      "metadata": {
        "id": "XsriEcsK_UvF"
      },
      "source": [
        "## RandomForest Regressor"
      ]
    },
    {
      "cell_type": "code",
      "metadata": {
        "colab": {
          "base_uri": "https://localhost:8080/"
        },
        "id": "ASsaYFDc_UvG",
        "outputId": "8f35b72c-61cb-420c-8bc1-28e39fd85576"
      },
      "source": [
        "random_reg = RandomForestRegressor(n_estimators=4, max_features=2, max_depth=8, min_samples_leaf=2, random_state=2)\n",
        "random_reg.fit(X_train, y_train)\n",
        "\n",
        "# plt.scatter(y_train, random_reg.predict(X_train))"
      ],
      "execution_count": null,
      "outputs": [
        {
          "output_type": "execute_result",
          "data": {
            "text/plain": [
              "RandomForestRegressor(bootstrap=True, ccp_alpha=0.0, criterion='mse',\n",
              "                      max_depth=8, max_features=2, max_leaf_nodes=None,\n",
              "                      max_samples=None, min_impurity_decrease=0.0,\n",
              "                      min_impurity_split=None, min_samples_leaf=2,\n",
              "                      min_samples_split=2, min_weight_fraction_leaf=0.0,\n",
              "                      n_estimators=4, n_jobs=None, oob_score=False,\n",
              "                      random_state=2, verbose=0, warm_start=False)"
            ]
          },
          "metadata": {
            "tags": []
          },
          "execution_count": 42
        }
      ]
    },
    {
      "cell_type": "code",
      "metadata": {
        "colab": {
          "base_uri": "https://localhost:8080/"
        },
        "id": "KfDzSzay_UvG",
        "outputId": "dc1c2c23-cda1-4c55-f683-a6ec512932a2"
      },
      "source": [
        "rand_pred = random_reg.predict(X_test)\n",
        "rand_pred"
      ],
      "execution_count": null,
      "outputs": [
        {
          "output_type": "execute_result",
          "data": {
            "text/plain": [
              "array([10132.25106686, 13737.28078753, 15821.88266947, ...,\n",
              "       39230.91297385,  8829.02137618, 19131.96555218])"
            ]
          },
          "metadata": {
            "tags": []
          },
          "execution_count": 43
        }
      ]
    },
    {
      "cell_type": "code",
      "metadata": {
        "colab": {
          "base_uri": "https://localhost:8080/"
        },
        "id": "-BLHQxVn_UvG",
        "outputId": "94c2005f-3c81-4673-e4df-82e7dff85263"
      },
      "source": [
        "random_reg.predict([[2400, 2]])"
      ],
      "execution_count": null,
      "outputs": [
        {
          "output_type": "execute_result",
          "data": {
            "text/plain": [
              "array([33596.41812865])"
            ]
          },
          "metadata": {
            "tags": []
          },
          "execution_count": 44
        }
      ]
    },
    {
      "cell_type": "code",
      "metadata": {
        "colab": {
          "base_uri": "https://localhost:8080/"
        },
        "id": "FTut9k0V_UvJ",
        "outputId": "e76578ac-59ee-4451-d168-2e784d20c3f9"
      },
      "source": [
        "# Random forest Regression\n",
        "random_accuracy = r2_score(y_test, random_reg.predict(X_test))\n",
        "print(random_accuracy)"
      ],
      "execution_count": null,
      "outputs": [
        {
          "output_type": "stream",
          "text": [
            "0.5020394176474177\n"
          ],
          "name": "stdout"
        }
      ]
    },
    {
      "cell_type": "markdown",
      "metadata": {
        "id": "dmkWx410_UvJ"
      },
      "source": [
        "## K Neighbours Regressor"
      ]
    },
    {
      "cell_type": "code",
      "metadata": {
        "colab": {
          "base_uri": "https://localhost:8080/"
        },
        "id": "il6gzUQs_UvK",
        "outputId": "579a190f-bf3f-41c7-ce5c-7a089e7dc89d"
      },
      "source": [
        "k_reg = KNeighborsRegressor(n_neighbors=30)\n",
        "k_reg.fit(X_train, y_train)"
      ],
      "execution_count": null,
      "outputs": [
        {
          "output_type": "execute_result",
          "data": {
            "text/plain": [
              "KNeighborsRegressor(algorithm='auto', leaf_size=30, metric='minkowski',\n",
              "                    metric_params=None, n_jobs=None, n_neighbors=30, p=2,\n",
              "                    weights='uniform')"
            ]
          },
          "metadata": {
            "tags": []
          },
          "execution_count": 46
        }
      ]
    },
    {
      "cell_type": "code",
      "metadata": {
        "colab": {
          "base_uri": "https://localhost:8080/"
        },
        "id": "mpkdYkKK_UvK",
        "outputId": "55a1384f-d844-4734-b3af-b9242e345562"
      },
      "source": [
        "k_pred = k_reg.predict(X_test)\n",
        "k_pred"
      ],
      "execution_count": null,
      "outputs": [
        {
          "output_type": "execute_result",
          "data": {
            "text/plain": [
              "array([10328.33333333, 14316.66666667, 14260.        , ...,\n",
              "       33800.        ,  9446.66666667, 19191.66666667])"
            ]
          },
          "metadata": {
            "tags": []
          },
          "execution_count": 47
        }
      ]
    },
    {
      "cell_type": "code",
      "metadata": {
        "colab": {
          "base_uri": "https://localhost:8080/"
        },
        "id": "goJ_Iw6T_UvK",
        "outputId": "5ddb7ed6-e17f-4954-a8f4-47fe2a1aade0"
      },
      "source": [
        "k_reg.predict([[1100, 2]])"
      ],
      "execution_count": null,
      "outputs": [
        {
          "output_type": "execute_result",
          "data": {
            "text/plain": [
              "array([14260.])"
            ]
          },
          "metadata": {
            "tags": []
          },
          "execution_count": 48
        }
      ]
    },
    {
      "cell_type": "markdown",
      "metadata": {
        "id": "a1gRJsPO_UvL"
      },
      "source": [
        "## Support Vector Regressor (SVR)"
      ]
    },
    {
      "cell_type": "code",
      "metadata": {
        "colab": {
          "base_uri": "https://localhost:8080/"
        },
        "id": "5EkwE8WE_UvL",
        "outputId": "a33e4ccb-0b41-42ee-9642-eb5684ef34c6"
      },
      "source": [
        "svr_reg = SVR(kernel='linear')\n",
        "svr_reg.fit(X_train, y_train)"
      ],
      "execution_count": null,
      "outputs": [
        {
          "output_type": "execute_result",
          "data": {
            "text/plain": [
              "SVR(C=1.0, cache_size=200, coef0=0.0, degree=3, epsilon=0.1, gamma='scale',\n",
              "    kernel='linear', max_iter=-1, shrinking=True, tol=0.001, verbose=False)"
            ]
          },
          "metadata": {
            "tags": []
          },
          "execution_count": 49
        }
      ]
    },
    {
      "cell_type": "code",
      "metadata": {
        "colab": {
          "base_uri": "https://localhost:8080/"
        },
        "id": "KMCbLCOR_UvL",
        "outputId": "be0950ad-72e0-493b-dd1a-e24a9fc766f0"
      },
      "source": [
        "svr_pred = svr_reg.predict(X_test)\n",
        "svr_pred"
      ],
      "execution_count": null,
      "outputs": [
        {
          "output_type": "execute_result",
          "data": {
            "text/plain": [
              "array([12301.13093777, 14615.90990009, 15175.05668712, ...,\n",
              "       25106.7225593 , 10541.97762032, 18224.93912359])"
            ]
          },
          "metadata": {
            "tags": []
          },
          "execution_count": 50
        }
      ]
    },
    {
      "cell_type": "code",
      "metadata": {
        "colab": {
          "base_uri": "https://localhost:8080/"
        },
        "id": "SCvo9alM_UvL",
        "outputId": "7cc78468-9d00-47d3-866e-ab96657ecb6f"
      },
      "source": [
        "svr_reg.predict([[2200, 3]])"
      ],
      "execution_count": null,
      "outputs": [
        {
          "output_type": "execute_result",
          "data": {
            "text/plain": [
              "array([25888.74112201])"
            ]
          },
          "metadata": {
            "tags": []
          },
          "execution_count": 64
        }
      ]
    },
    {
      "cell_type": "markdown",
      "metadata": {
        "id": "KIZH0sOY_UvN"
      },
      "source": [
        "## Finding the best accuracy for the above used algorithms using R2 Score Method."
      ]
    },
    {
      "cell_type": "code",
      "metadata": {
        "colab": {
          "base_uri": "https://localhost:8080/"
        },
        "id": "9s9PKT8D_UvN",
        "outputId": "c38bbb77-a7b4-46eb-8269-ce71295f5f05"
      },
      "source": [
        "from sklearn.metrics import r2_score\n",
        "\n",
        "# Linear Regression\n",
        "linear_accuracy = r2_score(y_test, k_pred)\n",
        "print(linear_accuracy)"
      ],
      "execution_count": null,
      "outputs": [
        {
          "output_type": "stream",
          "text": [
            "0.050958846165152005\n"
          ],
          "name": "stdout"
        }
      ]
    },
    {
      "cell_type": "code",
      "metadata": {
        "colab": {
          "base_uri": "https://localhost:8080/"
        },
        "id": "yDahsJJB_UvN",
        "outputId": "d94fba54-8ea6-4900-ebe9-ab762664f771"
      },
      "source": [
        "\n",
        "# Logistic Regression\n",
        "linear_accuracy = r2_score(y_test, log_pred)\n",
        "print(linear_accuracy)"
      ],
      "execution_count": null,
      "outputs": [
        {
          "output_type": "stream",
          "text": [
            "-0.10501126353905699\n"
          ],
          "name": "stdout"
        }
      ]
    },
    {
      "cell_type": "code",
      "metadata": {
        "colab": {
          "base_uri": "https://localhost:8080/"
        },
        "id": "SYya0ixl_UvO",
        "outputId": "97038c22-a34c-4190-f7dd-37cc4fb5a0f0"
      },
      "source": [
        "# SVR Regression\n",
        "linear_accuracy = r2_score(y_test, svr_pred)\n",
        "print(linear_accuracy)"
      ],
      "execution_count": null,
      "outputs": [
        {
          "output_type": "stream",
          "text": [
            "-0.05915259302161724\n"
          ],
          "name": "stdout"
        }
      ]
    },
    {
      "cell_type": "code",
      "metadata": {
        "scrolled": true,
        "colab": {
          "base_uri": "https://localhost:8080/"
        },
        "id": "ICO2RaGz_UvO",
        "outputId": "ab09acf4-66e9-49f0-bde1-2bcf63cf372c"
      },
      "source": [
        "# KNN Regression\n",
        "linear_accuracy = r2_score(y_test, k_pred)\n",
        "print(linear_accuracy)"
      ],
      "execution_count": null,
      "outputs": [
        {
          "output_type": "stream",
          "text": [
            "0.4661245673911656\n"
          ],
          "name": "stdout"
        }
      ]
    },
    {
      "cell_type": "code",
      "metadata": {
        "colab": {
          "base_uri": "https://localhost:8080/"
        },
        "id": "BB1io2Pt_UvO",
        "outputId": "d894bb45-9e4a-4e1b-8ae3-3979bc012b0f"
      },
      "source": [
        "\n",
        "# Random forest Regression\n",
        "linear_accuracy = r2_score(y_test, random_reg.predict(X_test))\n",
        "print(linear_accuracy)"
      ],
      "execution_count": null,
      "outputs": [
        {
          "output_type": "stream",
          "text": [
            "0.5020394176474177\n"
          ],
          "name": "stdout"
        }
      ]
    },
    {
      "cell_type": "code",
      "metadata": {
        "colab": {
          "base_uri": "https://localhost:8080/",
          "height": 449
        },
        "id": "YrSq6NW3_UvP",
        "outputId": "f24c36e5-a5aa-46ce-ea3e-f7c18ad158a7"
      },
      "source": [
        "!pip install scikit-learn\n",
        "from sklearn.metrics import median_absolute_error,mean_absolute_percentage_error\n",
        "mean_accuracy = median_absolute_error(y_test, rand_pred)\n",
        "perceent = mean_absolute_percentage_error(y_test, rand_pred)\n",
        "print(perceent)\n",
        "print(mean_accuracy)"
      ],
      "execution_count": null,
      "outputs": [
        {
          "output_type": "stream",
          "text": [
            "Requirement already satisfied: scikit-learn in /usr/local/lib/python3.7/dist-packages (0.22.2.post1)\n",
            "Requirement already satisfied: scipy>=0.17.0 in /usr/local/lib/python3.7/dist-packages (from scikit-learn) (1.4.1)\n",
            "Requirement already satisfied: numpy>=1.11.0 in /usr/local/lib/python3.7/dist-packages (from scikit-learn) (1.19.5)\n",
            "Requirement already satisfied: joblib>=0.11 in /usr/local/lib/python3.7/dist-packages (from scikit-learn) (1.0.1)\n"
          ],
          "name": "stdout"
        },
        {
          "output_type": "error",
          "ename": "ImportError",
          "evalue": "ignored",
          "traceback": [
            "\u001b[0;31m---------------------------------------------------------------------------\u001b[0m",
            "\u001b[0;31mImportError\u001b[0m                               Traceback (most recent call last)",
            "\u001b[0;32m<ipython-input-60-a2189b6f04d4>\u001b[0m in \u001b[0;36m<module>\u001b[0;34m()\u001b[0m\n\u001b[1;32m      1\u001b[0m \u001b[0mget_ipython\u001b[0m\u001b[0;34m(\u001b[0m\u001b[0;34m)\u001b[0m\u001b[0;34m.\u001b[0m\u001b[0msystem\u001b[0m\u001b[0;34m(\u001b[0m\u001b[0;34m'pip install scikit-learn'\u001b[0m\u001b[0;34m)\u001b[0m\u001b[0;34m\u001b[0m\u001b[0;34m\u001b[0m\u001b[0m\n\u001b[0;32m----> 2\u001b[0;31m \u001b[0;32mfrom\u001b[0m \u001b[0msklearn\u001b[0m\u001b[0;34m.\u001b[0m\u001b[0mmetrics\u001b[0m \u001b[0;32mimport\u001b[0m \u001b[0mmedian_absolute_error\u001b[0m\u001b[0;34m,\u001b[0m\u001b[0mmean_absolute_percentage_error\u001b[0m\u001b[0;34m\u001b[0m\u001b[0;34m\u001b[0m\u001b[0m\n\u001b[0m\u001b[1;32m      3\u001b[0m \u001b[0mmean_accuracy\u001b[0m \u001b[0;34m=\u001b[0m \u001b[0mmedian_absolute_error\u001b[0m\u001b[0;34m(\u001b[0m\u001b[0my_test\u001b[0m\u001b[0;34m,\u001b[0m \u001b[0mrand_pred\u001b[0m\u001b[0;34m)\u001b[0m\u001b[0;34m\u001b[0m\u001b[0;34m\u001b[0m\u001b[0m\n\u001b[1;32m      4\u001b[0m \u001b[0mperceent\u001b[0m \u001b[0;34m=\u001b[0m \u001b[0mmean_absolute_percentage_error\u001b[0m\u001b[0;34m(\u001b[0m\u001b[0my_test\u001b[0m\u001b[0;34m,\u001b[0m \u001b[0mrand_pred\u001b[0m\u001b[0;34m)\u001b[0m\u001b[0;34m\u001b[0m\u001b[0;34m\u001b[0m\u001b[0m\n\u001b[1;32m      5\u001b[0m \u001b[0mprint\u001b[0m\u001b[0;34m(\u001b[0m\u001b[0mperceent\u001b[0m\u001b[0;34m)\u001b[0m\u001b[0;34m\u001b[0m\u001b[0;34m\u001b[0m\u001b[0m\n",
            "\u001b[0;31mImportError\u001b[0m: cannot import name 'mean_absolute_percentage_error' from 'sklearn.metrics' (/usr/local/lib/python3.7/dist-packages/sklearn/metrics/__init__.py)",
            "",
            "\u001b[0;31m---------------------------------------------------------------------------\u001b[0;32m\nNOTE: If your import is failing due to a missing package, you can\nmanually install dependencies using either !pip or !apt.\n\nTo view examples of installing some common dependencies, click the\n\"Open Examples\" button below.\n\u001b[0;31m---------------------------------------------------------------------------\u001b[0m\n"
          ]
        }
      ]
    },
    {
      "cell_type": "code",
      "metadata": {
        "id": "eBO7pqsQ_UvP"
      },
      "source": [
        "from sklearn.metrics import mean_squared_error\n",
        "mse_test = mean_squared_error(y_test, rand_pred)\n",
        "mse_test"
      ],
      "execution_count": null,
      "outputs": []
    },
    {
      "cell_type": "code",
      "metadata": {
        "id": "to9NTjXy_UvP"
      },
      "source": [
        "k_range = range(1, 1000)\n",
        "k_scores = []\n",
        "r_scores = []\n",
        "\n",
        "for k in k_range:\n",
        "#     pred = {}\n",
        "#     knn = KNeighborsRegressor(n_neighbors=k)\n",
        "#     knn.fit(X_train, y_train)\n",
        "#     knn_pred = knn.predict(X_test)\n",
        "#     accuracy = r2_score(y_test, knn_pred)\n",
        "    r_reg = RandomForestRegressor(n_estimators=k, max_features=2, max_depth=8, min_samples_leaf=2, random_state=7)\n",
        "    r_reg.fit(X_train, y_train)\n",
        "    r_pred = r_reg.predict(X_test)\n",
        "    accuracy = r2_score(y_test, r_pred)\n",
        "#     pred[k] = accuracy\n",
        "    r_scores.append(accuracy)\n",
        "\n",
        "    \n",
        "    \n",
        "print(max(r_scores))\n",
        "print(r_scores.index(max(r_scores)))"
      ],
      "execution_count": null,
      "outputs": []
    },
    {
      "cell_type": "code",
      "metadata": {
        "id": "6E9SS7_t_UvQ"
      },
      "source": [
        ""
      ],
      "execution_count": null,
      "outputs": []
    }
  ]
}